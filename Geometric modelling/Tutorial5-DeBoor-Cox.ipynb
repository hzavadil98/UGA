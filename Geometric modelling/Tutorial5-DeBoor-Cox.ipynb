{
 "cells": [
  {
   "cell_type": "markdown",
   "id": "0a5d9539",
   "metadata": {},
   "source": [
    "# Tutorial 5 : Splines and DeBoor Cox algorithm\n",
    "\n",
    "In this lab session, we are going to plot a 2D B-spline curve using the deBoor-Cox algorithm.\n",
    "\n",
    "## Spline curve\n",
    "We recall that the B-spline $S(t)$ of degree $k$ associated to the nodes $t_0 = \\cdots = t_{k} < t_{k+1} < \\cdots < t_N < t_{N+1} = \\cdots = t_{N+k+1}$  and to the control polygon $[D] = [D_0...D_N]$, then the B-spline writes \n",
    "$$\n",
    "S(t) = \\sum_{i=0}^{N} D_i \\, N_i^k(t), \\quad t \\in [t_{k},t_{N+1}] \\quad \\hbox{(parameter space)}.\n",
    "$$\n",
    "\n",
    "## DeBoor-Cox algorithm\n",
    "The DeBoor-Cox algorithm is a triangular scheme that allows to calculate  $S(t)$  for $t \\in [t_k, t_{N+1}]$. The algorithm works as follows.\n",
    "\n",
    "1. Determine $r$ such that $t_r \\leq  t < t_{r+1}$\n",
    "2. Initialisation: $D^0_{i}=D_i$ for $i\\in\\{r-k,\\cdots,r\\}$\n",
    "3. For $j = 1$ to $k$:\n",
    "\n",
    "   For $i=r-k+j$ to $r$:\n",
    "\n",
    "$$\\displaystyle{D^j_i := {(t-t_i) * D_{i}^{j-1} + (t_{i+k-j+1}-t) * D_{i-1}^{j-1} \\over t_{i+k-j+1}-t_i}}$$\n",
    "\n",
    "Return: $S(t) := D^{k}_r$\n",
    "\n",
    "# Question 1: implementation\n",
    "1. write a function that that associates to $k$ a set of nodes $(t_i)$.\n",
    "2. Write a function that evaluates to $k$, $[D]$ and a parameter $t$, the evaluation $S(t)$ (using the DeBoor-Cox algorithm).\n",
    "\n",
    "# Question 2: plot several splines curves for diffent values of $k$. What do you observe ?"
   ]
  },
  {
   "cell_type": "code",
   "execution_count": 46,
   "id": "b063e1a7",
   "metadata": {},
   "outputs": [],
   "source": [
    "import numpy as np\n",
    "import matplotlib.pyplot as plt"
   ]
  },
  {
   "cell_type": "code",
   "execution_count": 47,
   "id": "c54aa93e",
   "metadata": {},
   "outputs": [],
   "source": [
    "def give_nodes(k):\n",
    "    return np.array([0]*k + list(np.arange(k+2)) + [k+1]*k)"
   ]
  },
  {
   "cell_type": "code",
   "execution_count": 48,
   "id": "2a3bd290",
   "metadata": {},
   "outputs": [],
   "source": [
    "def find_r(t,T):\n",
    "    if t >= T[-1]:\n",
    "        return int((2*len(T)-4)/3 + 1)\n",
    "    for i in range(len(T)-1):\n",
    "        if T[i] <= t < T[i+1]:\n",
    "            return i"
   ]
  },
  {
   "cell_type": "code",
   "execution_count": 97,
   "id": "11e14f77",
   "metadata": {},
   "outputs": [],
   "source": [
    "def DeBoor(k, D, t):\n",
    "    T = give_nodes(k)\n",
    "    r = find_r(t, T)\n",
    "    Q = np.zeros((k+1, r+1, 2))\n",
    "    Q[0,r-k:r+1] = D[r-k:r+1]\n",
    "    for j in range(1, k+1):\n",
    "        for i in range(r-k+j, r+1):\n",
    "            if T[i+k-j+1]-T[i] == 0:\n",
    "                div = 1\n",
    "            else:\n",
    "                div = T[i+k-j+1]-T[i]\n",
    "            Q[j,i] = ((t-T[i])*Q[j-1,i]+(T[i+k-j+1]-t)*Q[j-1,i-1])/div\n",
    "    return Q[k, r]\n",
    "    \n"
   ]
  },
  {
   "cell_type": "code",
   "execution_count": 95,
   "id": "797b3256",
   "metadata": {},
   "outputs": [],
   "source": [
    "def DeBoor(k, D, t, T):\n",
    "#    T = give_nodes(k)\n",
    "    r = find_r(t, T)\n",
    "    Q = np.zeros((k+1, r+1))\n",
    "    print(k,r)\n",
    "    Q[0,r-k:r+1] = D[r-k:r+1]\n",
    "    for j in range(1, k+1):\n",
    "        for i in range(r-k+j, r+1):\n",
    "            if T[i+k-j+1]-T[i] == 0:\n",
    "                div = 1\n",
    "            else:\n",
    "                div = T[i+k-j+1]-T[i]\n",
    "            Q[j,i] = ((t-T[i])*Q[j-1,i]+(T[i+k-j+1]-t)*Q[j-1,i-1])/div\n",
    "    return Q[k, r]\n",
    "    \n"
   ]
  },
  {
   "cell_type": "code",
   "execution_count": null,
   "id": "521c8527",
   "metadata": {},
   "outputs": [],
   "source": []
  },
  {
   "cell_type": "code",
   "execution_count": 101,
   "id": "5c0a0e27",
   "metadata": {},
   "outputs": [],
   "source": [
    "def plotDeBoor(D):\n",
    "    plt.figure()\n",
    "#    plt.scatter(np.linspace(0,4,len(D)),D)\n",
    "    plt.scatter(*D.T)\n",
    "\n",
    "    for k in np.arange(1,4):\n",
    "        T = np.linspace(0,3.99,100)\n",
    "        approx = np.array([DeBoor(k, D, t) for t in T])\n",
    "\n",
    "        plt.plot(approx, label='k: '+str(k))\n",
    "    plt.legend();\n",
    "    plt.show()"
   ]
  },
  {
   "cell_type": "code",
   "execution_count": 85,
   "id": "a1696730",
   "metadata": {},
   "outputs": [],
   "source": [
    "D = np.array([1,2,0,0,2,1,2])"
   ]
  },
  {
   "cell_type": "code",
   "execution_count": 102,
   "id": "a4495ac8",
   "metadata": {},
   "outputs": [],
   "source": [
    "D = np.array([[0,0],[0.5,1],[1,1],[1.5,1],[2,2],[2.5,0],[3,0]])"
   ]
  },
  {
   "cell_type": "code",
   "execution_count": 103,
   "id": "90578a91",
   "metadata": {},
   "outputs": [
    {
     "data": {
      "image/png": "[encoded data removed]",
      "text/plain": [
       "<Figure size 432x288 with 1 Axes>"
      ]
     },
     "metadata": {
      "needs_background": "light"
     },
     "output_type": "display_data"
    }
   ],
   "source": [
    "plotDeBoor(D)"
   ]
  },
  {
   "cell_type": "code",
   "execution_count": null,
   "id": "5befa2c8",
   "metadata": {},
   "outputs": [],
   "source": []
  },
  {
   "cell_type": "code",
   "execution_count": null,
   "id": "c0f07f45",
   "metadata": {},
   "outputs": [],
   "source": []
  }
 ],
 "metadata": {
  "kernelspec": {
   "display_name": "Python 3",
   "language": "python",
   "name": "python3"
  },
  "language_info": {
   "codemirror_mode": {
    "name": "ipython",
    "version": 3
   },
   "file_extension": ".py",
   "mimetype": "text/x-python",
   "name": "python",
   "nbconvert_exporter": "python",
   "pygments_lexer": "ipython3",
   "version": "3.8.8"
  }
 },
 "nbformat": 4,
 "nbformat_minor": 5
}
