{
 "cells": [
  {
   "cell_type": "markdown",
   "metadata": {},
   "source": [
    "# TUTORIAL 3 : Evolute of curves\n",
    "\n",
    "The evolute of a curve is by definition the set of its centers of curvatures. The goal of this lab session is to define a generic function that computes the evolute of any parameterized curve. \n",
    "\n",
    "## PART I. \n",
    "We assume in the following that we have a parametrized curve $f:[a,b]\\to\\mathbb{R}^3$ which is only known through a discretization $(t,f)$ where $$\\textit{t = np.linspace(0,1,n)}\\quad f=(f(t_0),\\cdots,f(t_{n-1})).$$\n",
    "$f$ is therefore of size $3 \\times n$.\n",
    "\n",
    "## 1) Discrete derivative\n",
    "Define a function that calculate an approximation of the derivative of $f$. The output has the same size than $t$ and $f$. "
   ]
  },
  {
   "cell_type": "code",
   "execution_count": 11,
   "metadata": {},
   "outputs": [],
   "source": [
    "%matplotlib inline\n",
    "import numpy as np\n",
    "import matplotlib.pyplot as plt\n",
    "\n",
    "#----------------------\n",
    "# discrete derivature\n",
    "def derivative(t,f):\n",
    "    # TO BE DONE\n",
    "    return deriv_f\n",
    "\n",
    "#---------------------\n",
    "# check that function on simple examples\n",
    "\n"
   ]
  },
  {
   "cell_type": "markdown",
   "metadata": {},
   "source": [
    "## 2) Discrete normal vector\n",
    "The goal is to build the function that outputs for every $t_i$ the unit normal $N(t_i)$."
   ]
  },
  {
   "cell_type": "code",
   "execution_count": 12,
   "metadata": {},
   "outputs": [],
   "source": [
    "#----------------------\n",
    "# discrete derivature\n",
    "def normal_vector(t,f):\n",
    "    # TO BE DONE\n",
    "    return normal_f # normal_f is of size 3 x n\n",
    "\n",
    "#---------------------\n",
    "# check that function on simple examples\n",
    "\n"
   ]
  },
  {
   "cell_type": "markdown",
   "metadata": {},
   "source": [
    "## 3) Curvature function\n",
    "The goal is to build the function that outputs for every $t_i$ the curvature $k(t_i)$."
   ]
  },
  {
   "cell_type": "code",
   "execution_count": 13,
   "metadata": {},
   "outputs": [],
   "source": [
    "#----------------------\n",
    "# discrete derivature\n",
    "def curvature(t,f):\n",
    "    # TO BE DONE\n",
    "    return curvature_f # curvature_f is of size 1 x n\n",
    "\n",
    "#---------------------\n",
    "# check that function on simple examples\n",
    "\n"
   ]
  },
  {
   "cell_type": "markdown",
   "metadata": {},
   "source": [
    "## 4) Evolute \n",
    "Define the evolute, namely the set of centers of curvatures. "
   ]
  },
  {
   "cell_type": "code",
   "execution_count": 14,
   "metadata": {},
   "outputs": [],
   "source": [
    "#----------------------\n",
    "# discrete derivature\n",
    "def evolute(t,f):\n",
    "    # TO BE DONE\n",
    "    return evolute_f # evolute_f is of size 3 x n\n",
    "\n"
   ]
  },
  {
   "cell_type": "markdown",
   "metadata": {},
   "source": [
    "## PART II. 1) Evolute of the helicoid\n",
    "Plot the evolute of the helicoid \n",
    "$$\n",
    "\\begin{array}{lllll}\n",
    "\\gamma :&\\mathbb{R}&\\to&\\mathbb{R}^3\\\\ \n",
    "&t &\\mapsto & (R\\cos t, R \\sin t, at).\n",
    "\\end{array}\n",
    "$$"
   ]
  },
  {
   "cell_type": "code",
   "execution_count": null,
   "metadata": {},
   "outputs": [],
   "source": []
  },
  {
   "cell_type": "markdown",
   "metadata": {},
   "source": [
    "## 2) Evolute of the catenary\n",
    "Plot the evolute of the catenary \n",
    "$$\n",
    "\\begin{array}{lllll}\n",
    "\\gamma :&\\mathbb{R}&\\to&\\mathbb{R}^2\\\\ \n",
    "&t &\\mapsto & (t,\\cosh t).\n",
    "\\end{array}\n",
    "$$"
   ]
  },
  {
   "cell_type": "code",
   "execution_count": null,
   "metadata": {},
   "outputs": [],
   "source": []
  },
  {
   "cell_type": "markdown",
   "metadata": {},
   "source": [
    "## 3) Evolute of Bezier curves\n",
    "Plot the evolute of  Bezier curve that you created before."
   ]
  },
  {
   "cell_type": "code",
   "execution_count": null,
   "metadata": {},
   "outputs": [],
   "source": []
  },
  {
   "cell_type": "markdown",
   "metadata": {},
   "source": []
  }
 ],
 "metadata": {
  "kernelspec": {
   "display_name": "Python 3",
   "language": "python",
   "name": "python3"
  },
  "language_info": {
   "codemirror_mode": {
    "name": "ipython",
    "version": 3
   },
   "file_extension": ".py",
   "mimetype": "text/x-python",
   "name": "python",
   "nbconvert_exporter": "python",
   "pygments_lexer": "ipython3",
   "version": "3.6.5"
  }
 },
 "nbformat": 4,
 "nbformat_minor": 2
}
